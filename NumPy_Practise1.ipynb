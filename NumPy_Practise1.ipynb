{
 "cells": [
  {
   "cell_type": "code",
   "execution_count": null,
   "id": "3708e9be-c309-40ab-8cd6-e777da7b1025",
   "metadata": {},
   "outputs": [],
   "source": [
    "#1) Manuel değerleri el ile girerek 3 boyutlu bir array oluşturup bir değişkene atayın. Ardından 3 boyutlu olup olmadığına bakmak için\n",
    "#dimension'ını kontrol edin\n"
   ]
  },
  {
   "cell_type": "code",
   "execution_count": 1,
   "id": "3d6e0935-0e3b-4f10-b9be-7fe8d941721f",
   "metadata": {},
   "outputs": [],
   "source": [
    "import numpy as np\n",
    "import random"
   ]
  },
  {
   "cell_type": "code",
   "execution_count": 4,
   "id": "fae268e4-6a19-4f6e-a1e4-e5e4f6a71d51",
   "metadata": {},
   "outputs": [
    {
     "data": {
      "text/plain": [
       "array([[[ 1,  2,  3],\n",
       "        [23, 45, 67]],\n",
       "\n",
       "       [[ 4,  5,  6],\n",
       "        [45, 67, 89]]])"
      ]
     },
     "execution_count": 4,
     "metadata": {},
     "output_type": "execute_result"
    }
   ],
   "source": [
    "arr3d=np.array([[[1,2,3],[23,45,67]],[[4,5,6],[45,67,89]]])\n",
    "arr3d\n"
   ]
  },
  {
   "cell_type": "code",
   "execution_count": 5,
   "id": "e96aae34-e670-441e-9334-25684fca7a35",
   "metadata": {},
   "outputs": [
    {
     "data": {
      "text/plain": [
       "3"
      ]
     },
     "execution_count": 5,
     "metadata": {},
     "output_type": "execute_result"
    }
   ],
   "source": [
    "arr3d.ndim"
   ]
  },
  {
   "cell_type": "code",
   "execution_count": null,
   "id": "24fad5aa-2279-4c00-bb84-7eb021986835",
   "metadata": {},
   "outputs": [],
   "source": [
    "#2) 34, 40, 46, 52... 112 şeklinde devam eden 1 boyutlu bir array oluşturun.\n"
   ]
  },
  {
   "cell_type": "code",
   "execution_count": 6,
   "id": "e26b1b65-4f69-420f-9afc-feb380737f23",
   "metadata": {},
   "outputs": [
    {
     "data": {
      "text/plain": [
       "array([ 34,  40,  46,  52,  58,  64,  70,  76,  82,  88,  94, 100, 106,\n",
       "       112])"
      ]
     },
     "execution_count": 6,
     "metadata": {},
     "output_type": "execute_result"
    }
   ],
   "source": [
    "np.arange(34,113,6)"
   ]
  },
  {
   "cell_type": "code",
   "execution_count": null,
   "id": "e2b126bb-31d8-4b01-9bd7-32013094de5f",
   "metadata": {},
   "outputs": [],
   "source": [
    "#3) 50-500 arasında lineer artış gösteren 91 tane tam sayıdan oluşan bir array oluşturun.(dtype'ı int olsun)\n"
   ]
  },
  {
   "cell_type": "code",
   "execution_count": 7,
   "id": "6c5e8300-2497-46e3-b3bf-414c2f2122d6",
   "metadata": {},
   "outputs": [
    {
     "data": {
      "text/plain": [
       "array([ 50,  55,  60,  65,  70,  75,  80,  85,  90,  95, 100, 105, 110,\n",
       "       115, 120, 125, 130, 135, 140, 145, 150, 155, 160, 165, 170, 175,\n",
       "       180, 185, 190, 195, 200, 205, 210, 215, 220, 225, 230, 235, 240,\n",
       "       245, 250, 255, 260, 265, 270, 275, 280, 285, 290, 295, 300, 305,\n",
       "       310, 315, 320, 325, 330, 335, 340, 345, 350, 355, 360, 365, 370,\n",
       "       375, 380, 385, 390, 395, 400, 405, 410, 415, 420, 425, 430, 435,\n",
       "       440, 445, 450, 455, 460, 465, 470, 475, 480, 485, 490, 495, 500])"
      ]
     },
     "execution_count": 7,
     "metadata": {},
     "output_type": "execute_result"
    }
   ],
   "source": [
    "np.linspace(50,500,91, dtype=int)"
   ]
  },
  {
   "cell_type": "code",
   "execution_count": null,
   "id": "70f798a3-0f26-497a-a8ba-d56c0338f12e",
   "metadata": {},
   "outputs": [],
   "source": [
    "#4) 100 ile 10000 arasında logaritmik artış gösteren 8 sayıdan oluşan bir array oluşturun.\n"
   ]
  },
  {
   "cell_type": "code",
   "execution_count": 8,
   "id": "cde18328-3904-45ad-9e75-d9a0c430da93",
   "metadata": {},
   "outputs": [
    {
     "data": {
      "text/plain": [
       "array([   100.        ,    268.26957953,    719.685673  ,   1930.69772888,\n",
       "         5179.47467923,  13894.95494373,  37275.93720315, 100000.        ])"
      ]
     },
     "execution_count": 8,
     "metadata": {},
     "output_type": "execute_result"
    }
   ],
   "source": [
    "np.logspace(2,5,8)"
   ]
  },
  {
   "cell_type": "code",
   "execution_count": null,
   "id": "1747ebfb-ffcd-4ad9-9344-9057e6148d71",
   "metadata": {},
   "outputs": [],
   "source": [
    "#5) 0-8 tam arasındaki ardışık tam sayılardan oluşan(0 ve 8 dahil toplam 9 değer) 3x3 shape'inde bir matris oluşturun.\n"
   ]
  },
  {
   "cell_type": "code",
   "execution_count": 17,
   "id": "d95cae55-1b13-411e-b237-f000af376f1b",
   "metadata": {},
   "outputs": [
    {
     "data": {
      "text/plain": [
       "array([[0, 1, 2],\n",
       "       [3, 4, 5],\n",
       "       [6, 7, 8]])"
      ]
     },
     "execution_count": 17,
     "metadata": {},
     "output_type": "execute_result"
    }
   ],
   "source": [
    "np.arange(9).reshape(3,3)"
   ]
  },
  {
   "cell_type": "code",
   "execution_count": null,
   "id": "6e494b97-56d9-484e-9517-b09756453a0b",
   "metadata": {},
   "outputs": [],
   "source": [
    "#6) 6x6 formatında bir sıfır matrisi oluşturun. (dtype'ı int olsun)\n"
   ]
  },
  {
   "cell_type": "code",
   "execution_count": 22,
   "id": "481ce5e0-bece-4760-b45f-9fb5fca58841",
   "metadata": {},
   "outputs": [
    {
     "data": {
      "text/plain": [
       "array([[0, 0, 0, 0, 0, 0],\n",
       "       [0, 0, 0, 0, 0, 0],\n",
       "       [0, 0, 0, 0, 0, 0],\n",
       "       [0, 0, 0, 0, 0, 0],\n",
       "       [0, 0, 0, 0, 0, 0],\n",
       "       [0, 0, 0, 0, 0, 0]])"
      ]
     },
     "execution_count": 22,
     "metadata": {},
     "output_type": "execute_result"
    }
   ],
   "source": [
    "np.zeros((6,6),dtype=int)"
   ]
  },
  {
   "cell_type": "code",
   "execution_count": null,
   "id": "b6c008f2-81a6-4951-b29b-eb86d353fed9",
   "metadata": {},
   "outputs": [],
   "source": [
    "#7) 4x4 formatında bir bir matrisi oluşturun. (dtype'ı int olsun)\n"
   ]
  },
  {
   "cell_type": "code",
   "execution_count": 28,
   "id": "c61925ff-ff7a-4ca0-84b4-893fa361a9a7",
   "metadata": {},
   "outputs": [
    {
     "data": {
      "text/plain": [
       "array([[1, 1, 1, 1],\n",
       "       [1, 1, 1, 1],\n",
       "       [1, 1, 1, 1],\n",
       "       [1, 1, 1, 1]])"
      ]
     },
     "execution_count": 28,
     "metadata": {},
     "output_type": "execute_result"
    }
   ],
   "source": [
    "np.ones((4,4),dtype=int)"
   ]
  },
  {
   "cell_type": "code",
   "execution_count": null,
   "id": "2a035e46-f970-414e-9c0f-4b7bca407e61",
   "metadata": {},
   "outputs": [],
   "source": [
    "#8) 8x8 formatında bir birim matris oluşturun. (Sadece sol köşegeni 1 geri kalan değerleri 0 olan matris'e birim matris deniyor.) (dtype'ı int olsun)\n"
   ]
  },
  {
   "cell_type": "code",
   "execution_count": 26,
   "id": "7a1d357f-f906-4540-a35a-290e584b65a0",
   "metadata": {},
   "outputs": [
    {
     "data": {
      "text/plain": [
       "array([[1, 0, 0, 0, 0, 0, 0, 0],\n",
       "       [0, 1, 0, 0, 0, 0, 0, 0],\n",
       "       [0, 0, 1, 0, 0, 0, 0, 0],\n",
       "       [0, 0, 0, 1, 0, 0, 0, 0],\n",
       "       [0, 0, 0, 0, 1, 0, 0, 0],\n",
       "       [0, 0, 0, 0, 0, 1, 0, 0],\n",
       "       [0, 0, 0, 0, 0, 0, 1, 0],\n",
       "       [0, 0, 0, 0, 0, 0, 0, 1]])"
      ]
     },
     "execution_count": 26,
     "metadata": {},
     "output_type": "execute_result"
    }
   ],
   "source": [
    "np.eye(8,8,dtype=int)"
   ]
  },
  {
   "cell_type": "code",
   "execution_count": null,
   "id": "31a394e4-be2a-4421-b74e-b66614df525d",
   "metadata": {},
   "outputs": [],
   "source": [
    "#9) 5x5 formatında bir köşegen matrisi oluşturun (Sadece sol üstten sağ alta doğru olan köşegendeki değerleri 3 olsun diğer bütün \n",
    "#değerleri 0) (Bunu henüz görmediniz ama birim matrise benziyor, sadece köşegen değerleri 1 değil 3 olacak. Bir şeyler düşünün)\n"
   ]
  },
  {
   "cell_type": "code",
   "execution_count": 29,
   "id": "19357953-9723-4454-95a5-ae04805d221f",
   "metadata": {},
   "outputs": [
    {
     "data": {
      "text/plain": [
       "array([[3, 0, 0, 0, 0],\n",
       "       [0, 3, 0, 0, 0],\n",
       "       [0, 0, 3, 0, 0],\n",
       "       [0, 0, 0, 3, 0],\n",
       "       [0, 0, 0, 0, 3]])"
      ]
     },
     "execution_count": 29,
     "metadata": {},
     "output_type": "execute_result"
    }
   ],
   "source": [
    "np.eye(5,5,dtype=int)*3"
   ]
  },
  {
   "cell_type": "code",
   "execution_count": null,
   "id": "8bd7a625-8a82-4076-88ea-d8310ea11730",
   "metadata": {},
   "outputs": [],
   "source": [
    "#10) np.random modülünden uygun fonksiyonu kullanarak 0-1 arasında toplam 6 tane değerden oluşan 1 boyutlu bir array oluşturun.\n"
   ]
  },
  {
   "cell_type": "code",
   "execution_count": 30,
   "id": "310602ad-72db-418b-bbeb-05baff92f4e4",
   "metadata": {},
   "outputs": [
    {
     "data": {
      "text/plain": [
       "array([0.43916401, 0.15128169, 0.25858172, 0.98196855, 0.09495335,\n",
       "       0.24770098])"
      ]
     },
     "execution_count": 30,
     "metadata": {},
     "output_type": "execute_result"
    }
   ],
   "source": [
    "np.random.rand(6)"
   ]
  },
  {
   "cell_type": "code",
   "execution_count": null,
   "id": "fa0ba2db-35c1-4e72-947c-3a8df71530ef",
   "metadata": {},
   "outputs": [],
   "source": [
    "#11) np.random modülünden uygun fonksiyonu kullanarak 50-100 arasındaki(50 ve 100 dahil) tam sayılardan 10 tanesiyle oluşan (5,2) \n",
    "#shape'inde bir array oluşturun. Ardından bu arrayin shape'ini kontrol edin.\n"
   ]
  },
  {
   "cell_type": "code",
   "execution_count": 34,
   "id": "621bfdf7-6f02-4eef-aadf-475844b08db8",
   "metadata": {},
   "outputs": [
    {
     "data": {
      "text/plain": [
       "array([[73, 79],\n",
       "       [92, 85],\n",
       "       [80, 91],\n",
       "       [50, 61],\n",
       "       [62, 64]])"
      ]
     },
     "execution_count": 34,
     "metadata": {},
     "output_type": "execute_result"
    }
   ],
   "source": [
    "x=np.random.randint(50,101,10).reshape(5,2)\n",
    "x"
   ]
  },
  {
   "cell_type": "code",
   "execution_count": 33,
   "id": "6f234212-df17-487d-a904-60565c943ea5",
   "metadata": {},
   "outputs": [
    {
     "data": {
      "text/plain": [
       "(5, 2)"
      ]
     },
     "execution_count": 33,
     "metadata": {},
     "output_type": "execute_result"
    }
   ],
   "source": [
    "x.shape"
   ]
  },
  {
   "cell_type": "code",
   "execution_count": null,
   "id": "b70c5c41-6fa2-42d1-8b4b-f7d6ce02804b",
   "metadata": {},
   "outputs": [],
   "source": [
    "#12) np.random modülünden uygun fonksiyonu kullanarak 100-1000(1000 dahil değil) arasındaki tam sayılardan rastgele 50 tanesinden oluşan \n",
    "#(2,5,5) shape'inde 3 boyutlu bir array oluşturun. Ardından bu array'in dimension'ını(boyutunu) ve shape'ini kontrol edin.\n"
   ]
  },
  {
   "cell_type": "code",
   "execution_count": 37,
   "id": "2b480c79-420c-49b5-abac-1db6adc6e61c",
   "metadata": {},
   "outputs": [
    {
     "data": {
      "text/plain": [
       "array([[[962, 268, 330, 196, 602],\n",
       "        [974, 215, 475, 170, 264],\n",
       "        [800, 740, 758, 766, 345],\n",
       "        [414, 332, 251, 810, 634],\n",
       "        [246, 526, 780, 726, 780]],\n",
       "\n",
       "       [[193, 904, 744, 113, 317],\n",
       "        [279, 938, 325, 498, 648],\n",
       "        [811, 439, 413, 154, 468],\n",
       "        [254, 517, 764, 490, 838],\n",
       "        [592, 378, 231, 215, 958]]])"
      ]
     },
     "execution_count": 37,
     "metadata": {},
     "output_type": "execute_result"
    }
   ],
   "source": [
    "ar=np.random.randint(100,1000,(2,5,5))\n",
    "ar"
   ]
  },
  {
   "cell_type": "code",
   "execution_count": 38,
   "id": "9d4d3984-82b4-4e56-aa82-3f207e02e406",
   "metadata": {},
   "outputs": [
    {
     "data": {
      "text/plain": [
       "3"
      ]
     },
     "execution_count": 38,
     "metadata": {},
     "output_type": "execute_result"
    }
   ],
   "source": [
    "ar.ndim"
   ]
  },
  {
   "cell_type": "code",
   "execution_count": 39,
   "id": "d8489416-335e-41f9-a1b0-a2a03b75a6f9",
   "metadata": {},
   "outputs": [
    {
     "data": {
      "text/plain": [
       "(2, 5, 5)"
      ]
     },
     "execution_count": 39,
     "metadata": {},
     "output_type": "execute_result"
    }
   ],
   "source": [
    "ar.shape"
   ]
  },
  {
   "cell_type": "code",
   "execution_count": null,
   "id": "4c74986a-e52f-4e2e-8e26-eeeaf0e7c3f5",
   "metadata": {},
   "outputs": [],
   "source": [
    "#13) np.random modülünden uygun fonksiyonu kullanarak 0-100(0 ve 100 dahil) arasındaki tam sayılardan 10 tane seçerek bir array oluşturun. \n",
    "#Bu array'in maximum, mininmum değerlerine ve bu değerlerin indexlerine bakın.\n"
   ]
  },
  {
   "cell_type": "code",
   "execution_count": 43,
   "id": "f92bf1f1-9b66-433a-9049-bda5960862ba",
   "metadata": {},
   "outputs": [
    {
     "data": {
      "text/plain": [
       "array([59, 60, 93, 66, 95, 59, 76, 10, 41, 80])"
      ]
     },
     "execution_count": 43,
     "metadata": {},
     "output_type": "execute_result"
    }
   ],
   "source": [
    "arr2=np.random.randint(0,101,10)\n",
    "arr2"
   ]
  },
  {
   "cell_type": "code",
   "execution_count": 47,
   "id": "650eec73-26bc-4649-a4d8-3c5f04edcff5",
   "metadata": {},
   "outputs": [
    {
     "name": "stdout",
     "output_type": "stream",
     "text": [
      "95\n",
      "10\n",
      "4\n",
      "7\n"
     ]
    }
   ],
   "source": [
    "(print(arr2.max()))\n",
    "(print(arr2.min()))\n",
    "(print(arr2.argmax()))\n",
    "(print(arr2.argmin()))"
   ]
  },
  {
   "cell_type": "code",
   "execution_count": null,
   "id": "377edba8-6ab8-4341-a017-3e56fa5b1153",
   "metadata": {},
   "outputs": [],
   "source": [
    "#14) np.random modülünden uygun fonksiyonu kullanarak 300-500(300 ve 500 dahil) arasındaki tam sayılardan 20 tane seçerek (2,2,5) shape'inde 3 \n",
    "#boyutlu bir array oluşturun. Ardından bu array'in içindeki 20 tam sayı arasından maximum ve minimum değerleri manuel olarak tespit edin ve \n",
    "#indexleme yaparak çekmeye çalışın.\n"
   ]
  },
  {
   "cell_type": "code",
   "execution_count": 49,
   "id": "96c299ed-6a54-4a1c-a992-2c94cc2b93aa",
   "metadata": {},
   "outputs": [
    {
     "data": {
      "text/plain": [
       "array([[[362, 481, 421, 388, 447],\n",
       "        [421, 387, 394, 430, 407]],\n",
       "\n",
       "       [[494, 456, 308, 338, 391],\n",
       "        [353, 395, 319, 479, 427]]])"
      ]
     },
     "execution_count": 49,
     "metadata": {},
     "output_type": "execute_result"
    }
   ],
   "source": [
    "arr3=np.random.randint(300,501,(2,2,5))\n",
    "arr3"
   ]
  },
  {
   "cell_type": "code",
   "execution_count": 51,
   "id": "5c1dd1b2-8842-4d64-b9c3-caaa6cb87e44",
   "metadata": {},
   "outputs": [
    {
     "data": {
      "text/plain": [
       "494"
      ]
     },
     "execution_count": 51,
     "metadata": {},
     "output_type": "execute_result"
    }
   ],
   "source": [
    "arr3[1][0][0] #or arr3[1,0,0]"
   ]
  },
  {
   "cell_type": "code",
   "execution_count": 54,
   "id": "ea6e1df8-17aa-4dd6-9880-a2c14818ead3",
   "metadata": {},
   "outputs": [
    {
     "data": {
      "text/plain": [
       "308"
      ]
     },
     "execution_count": 54,
     "metadata": {},
     "output_type": "execute_result"
    }
   ],
   "source": [
    "arr3[1,0,2]  #or arr3[1][0][2]"
   ]
  },
  {
   "cell_type": "code",
   "execution_count": null,
   "id": "12ed9ffe-7feb-4a30-b0cb-111825c41959",
   "metadata": {},
   "outputs": [],
   "source": [
    "#15) 0-50(50 dahil) arasındaki ardışık tam sayılardan oluşan bir array oluşturun. Ardından bu arrayin 20. ve 35. indexleri arasındaki değerleri 500'e\n",
    "#eşitleyin ve yeni oluşan array'i ekrana yazdırarak broadcasting işleminin yapılıp yapılmadığını test edin."
   ]
  },
  {
   "cell_type": "code",
   "execution_count": 58,
   "id": "e533bc38-d70c-405a-aec3-1b53524da2be",
   "metadata": {},
   "outputs": [
    {
     "data": {
      "text/plain": [
       "array([  0,   1,   2,   3,   4,   5,   6,   7,   8,   9,  10,  11,  12,\n",
       "        13,  14,  15,  16,  17,  18,  19, 500, 500, 500, 500, 500, 500,\n",
       "       500, 500, 500, 500, 500, 500, 500, 500, 500,  35,  36,  37,  38,\n",
       "        39,  40,  41,  42,  43,  44,  45,  46,  47,  48,  49,  50])"
      ]
     },
     "execution_count": 58,
     "metadata": {},
     "output_type": "execute_result"
    }
   ],
   "source": [
    "arr_broad=np.arange(51)\n",
    "arr_broad[20:36]=500\n",
    "arr_broad"
   ]
  }
 ],
 "metadata": {
  "kernelspec": {
   "display_name": "Python 3 (ipykernel)",
   "language": "python",
   "name": "python3"
  },
  "language_info": {
   "codemirror_mode": {
    "name": "ipython",
    "version": 3
   },
   "file_extension": ".py",
   "mimetype": "text/x-python",
   "name": "python",
   "nbconvert_exporter": "python",
   "pygments_lexer": "ipython3",
   "version": "3.12.4"
  }
 },
 "nbformat": 4,
 "nbformat_minor": 5
}
